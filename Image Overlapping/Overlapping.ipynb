{
 "cells": [
  {
   "cell_type": "code",
   "execution_count": 1,
   "metadata": {},
   "outputs": [],
   "source": [
    "import numpy as np\n",
    "import cv2 as cv\n",
    "import matplotlib.pyplot as plt\n",
    "%matplotlib qt"
   ]
  },
  {
   "cell_type": "code",
   "execution_count": 2,
   "metadata": {},
   "outputs": [],
   "source": [
    "def recoverTransformation(Image1, Image2):\n",
    "    plt.figure()\n",
    "    plt.imshow(Image1)\n",
    "    points_1=plt.ginput(6, timeout=120)\n",
    "    plt.show()\n",
    "    \n",
    "    plt.figure()\n",
    "    plt.imshow(Image2)\n",
    "    points_2=plt.ginput(6, timeout=120)\n",
    "    plt.show()\n",
    "\n",
    "\n",
    "    points_1=np.array(points_1)\n",
    "    points_2=np.array(points_2)\n",
    "    \n",
    "    locs_1=points_1\n",
    "    locs_2=points_2\n",
    "    \n",
    "    # Construct A matrix from selected locations of original image\n",
    "    A= np.zeros((2*locs_1.shape[0], 6))\n",
    "\n",
    "    for count, i in enumerate(range(0, A.shape[0], 2)):\n",
    "\n",
    "        A[i,:]=   np.concatenate((locs_1[count,:], np.array([1,0,0,0])) , axis=0 )\n",
    "        A[i+1,:]= np.concatenate(( np.array([0,0,0]) , locs_1[count,:] , np.array([1]) ) , axis=0 )\n",
    "\n",
    "        \n",
    "    # Getting y vector from corresponding locations in transformed image    \n",
    "    y= locs_2.reshape((-1,1))\n",
    "\n",
    "    \n",
    "    # Getting transformation matrix\n",
    "    A_pinv =  np.linalg.pinv(A)\n",
    "    x= np.matmul(A_pinv,y)\n",
    "    T = x.reshape(2,3) # transformation matrix\n",
    "    \n",
    "    \n",
    "    # Applying affine transformation on original image\n",
    "    T_Image= cv.warpAffine( Image1, T , (Image2.shape[1], Image2.shape[0]  ) )\n",
    "    \n",
    "    plt.imshow(T_Image)\n",
    "    \n",
    "    # Getting MSE between intensities of Image2 and transformed image\n",
    "    MSEPix= np.mean( (T_Image-Image2)**2 )\n",
    "    \n",
    "    \n",
    "    # Getting MSE between corresponding locations of Image2 and transformed locations\n",
    "    T_points= np.matmul(T,  np.vstack( (locs_1.T, np.ones((1, locs_1.T.shape[1]))) ))\n",
    "    MSECorPts = np.mean( (T_points-locs_2.T)**2 )\n",
    "    \n",
    "    \n",
    "    return MSEPix, MSECorPts, T, T_Image\n",
    "    "
   ]
  },
  {
   "cell_type": "code",
   "execution_count": 3,
   "metadata": {},
   "outputs": [],
   "source": [
    "def registerImages(ImageNew, ImageOld):\n",
    "           \n",
    "        \n",
    "        MSEPix, MSECorPts, T, T_Image= recoverTransformation(ImageOld, ImageNew)\n",
    "        \n",
    "\n",
    "        mask_old= np.ones((ImageOld.shape))\n",
    "\n",
    "        mask_new = cv.warpAffine( mask_old, T , (ImageNew.shape[1], ImageNew.shape[0]  ) )\n",
    "\n",
    "        registeredImage = ((1-mask_new)*ImageNew).astype(\"uint8\") + (mask_new*T_Image).astype(\"uint8\")\n",
    "        plt.imshow(registeredImage)\n",
    "\n",
    "        return registeredImage, MSEPix, MSECorPts, T, T_Image"
   ]
  },
  {
   "cell_type": "markdown",
   "metadata": {},
   "source": [
    "# Badshahi Masjid"
   ]
  },
  {
   "cell_type": "code",
   "execution_count": 33,
   "metadata": {},
   "outputs": [],
   "source": [
    "old=plt.imread('dataset/badshahiOld.jpg')\n",
    "new=plt.imread('dataset/badshahiNew.JPG')"
   ]
  },
  {
   "cell_type": "code",
   "execution_count": 34,
   "metadata": {},
   "outputs": [
    {
     "name": "stdout",
     "output_type": "stream",
     "text": [
      "MSEPix:  99.88559184101342\n",
      "MSECorpts:  662.1320679291046\n",
      "Transformation Matrix  [[ 1.71802509e+00  2.25203072e-02  1.93876808e+02]\n",
      " [-1.04213400e-02  1.24369396e+00  3.42056411e+01]]\n"
     ]
    }
   ],
   "source": [
    "image,MSEPix,MSECorpts,T,T_Image=registerImages(new,old)\n",
    "print(\"MSEPix: \",MSEPix)\n",
    "print(\"MSECorpts: \",MSECorpts)\n",
    "print(\"Transformation Matrix \",T)"
   ]
  },
  {
   "cell_type": "code",
   "execution_count": null,
   "metadata": {},
   "outputs": [],
   "source": [
    "#plt.imsave('Result/badshahi_registered.jpg',image)"
   ]
  },
  {
   "cell_type": "code",
   "execution_count": 10,
   "metadata": {},
   "outputs": [
    {
     "name": "stdout",
     "output_type": "stream",
     "text": [
      "MSEPix:  102.09129422222222\n",
      "MSECorpts:  25.61238398031035\n",
      "Transformation Matrix  [[ 7.47453107e-01  4.85470750e-02  1.55951386e+02]\n",
      " [-3.03254358e-02  8.32414056e-01  1.36138315e+02]]\n"
     ]
    }
   ],
   "source": [
    "old=  cv.imread('dataset/qlibOld2.jpg')\n",
    "new=  cv.imread('dataset/qlibNew.jpg')\n",
    "\n",
    "\n",
    "image,MSEPix,MSECorpts,T,T_Image=registerImages(new,old)\n",
    "print(\"MSEPix: \",MSEPix)\n",
    "print(\"MSECorpts: \",MSECorpts)\n",
    "print(\"Transformation Matrix \",T)"
   ]
  },
  {
   "cell_type": "code",
   "execution_count": 8,
   "metadata": {},
   "outputs": [],
   "source": [
    "#plt.imsave('Result/qlib_registered.jpg',image)"
   ]
  },
  {
   "cell_type": "code",
   "execution_count": 40,
   "metadata": {},
   "outputs": [
    {
     "name": "stdout",
     "output_type": "stream",
     "text": [
      "(1051, 800, 3)\n",
      "MSEPix:  109.42342887725975\n",
      "MSECorpts:  63.879939870651846\n",
      "Transformation Matrix  [[ 1.19634659e+00  1.91239234e-02  4.43065387e+01]\n",
      " [-1.80200453e-02  1.21316206e+00  5.10295231e+02]]\n"
     ]
    }
   ],
   "source": [
    "old=  cv.imread('dataset/faisalMashidNight.png')\n",
    "new=  cv.imread('dataset/faisalMashidEvening.png')\n",
    "\n",
    "image,MSEPix,MSECorpts,T,T_Image=registerImages(new,old)\n",
    "print(\"MSEPix: \",MSEPix)\n",
    "print(\"MSECorpts: \",MSECorpts)\n",
    "print(\"Transformation Matrix \",T)"
   ]
  },
  {
   "cell_type": "code",
   "execution_count": 43,
   "metadata": {},
   "outputs": [],
   "source": [
    "image=cv.cvtColor(image, cv.COLOR_BGR2RGB)\n",
    "plt.imsave('Result/faisalMasjid_registered.jpg',image)"
   ]
  }
 ],
 "metadata": {
  "kernelspec": {
   "display_name": "Python 3",
   "language": "python",
   "name": "python3"
  },
  "language_info": {
   "codemirror_mode": {
    "name": "ipython",
    "version": 3
   },
   "file_extension": ".py",
   "mimetype": "text/x-python",
   "name": "python",
   "nbconvert_exporter": "python",
   "pygments_lexer": "ipython3",
   "version": "3.8.5"
  },
  "varInspector": {
   "cols": {
    "lenName": 16,
    "lenType": 16,
    "lenVar": 40
   },
   "kernels_config": {
    "python": {
     "delete_cmd_postfix": "",
     "delete_cmd_prefix": "del ",
     "library": "var_list.py",
     "varRefreshCmd": "print(var_dic_list())"
    },
    "r": {
     "delete_cmd_postfix": ") ",
     "delete_cmd_prefix": "rm(",
     "library": "var_list.r",
     "varRefreshCmd": "cat(var_dic_list()) "
    }
   },
   "types_to_exclude": [
    "module",
    "function",
    "builtin_function_or_method",
    "instance",
    "_Feature"
   ],
   "window_display": false
  }
 },
 "nbformat": 4,
 "nbformat_minor": 4
}
